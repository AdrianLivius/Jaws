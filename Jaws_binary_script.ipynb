{
 "cells": [
  {
   "cell_type": "code",
   "execution_count": 1,
   "id": "7b222ced-571e-4bfc-ba5d-db2713f19ca0",
   "metadata": {
    "tags": []
   },
   "outputs": [
    {
     "name": "stderr",
     "output_type": "stream",
     "text": [
      "2024-04-20 17:52:17.179002: E external/local_xla/xla/stream_executor/cuda/cuda_dnn.cc:9261] Unable to register cuDNN factory: Attempting to register factory for plugin cuDNN when one has already been registered\n",
      "2024-04-20 17:52:17.179076: E external/local_xla/xla/stream_executor/cuda/cuda_fft.cc:607] Unable to register cuFFT factory: Attempting to register factory for plugin cuFFT when one has already been registered\n",
      "2024-04-20 17:52:17.179696: E external/local_xla/xla/stream_executor/cuda/cuda_blas.cc:1515] Unable to register cuBLAS factory: Attempting to register factory for plugin cuBLAS when one has already been registered\n",
      "2024-04-20 17:52:17.185339: I tensorflow/core/platform/cpu_feature_guard.cc:182] This TensorFlow binary is optimized to use available CPU instructions in performance-critical operations.\n",
      "To enable the following instructions: SSE4.1 SSE4.2 AVX AVX2 FMA, in other operations, rebuild TensorFlow with the appropriate compiler flags.\n"
     ]
    }
   ],
   "source": [
    "import os\n",
    "import numpy as np\n",
    "import pandas as pd\n",
    "import matplotlib.pyplot as plt\n",
    "%matplotlib inline\n",
    "from PIL import Image\n",
    "import matplotlib.image as mpimg\n",
    "\n",
    "import tensorflow as tf\n",
    "from tensorflow import keras\n",
    "from tensorflow.keras.preprocessing import image_dataset_from_directory\n",
    "from tensorflow.keras.preprocessing.image import ImageDataGenerator\n",
    "from tensorflow.keras.preprocessing import image as image_utils\n",
    "\n",
    "from tensorflow.keras.models import Sequential\n",
    "from tensorflow.keras import layers\n",
    "from tensorflow.keras.layers import Dense"
   ]
  },
  {
   "cell_type": "code",
   "execution_count": 3,
   "id": "01d8886c-b64f-4b90-bffc-6fa18da0b6be",
   "metadata": {
    "tags": []
   },
   "outputs": [
    {
     "name": "stdout",
     "output_type": "stream",
     "text": [
      "Class number: 2\n"
     ]
    }
   ],
   "source": [
    "image_dir = './Jaws_binary_labeled_images/'\n",
    "\n",
    "\n",
    "print(\"Class number:\", len(os.listdir(train_image_dir)))"
   ]
  },
  {
   "cell_type": "code",
   "execution_count": 5,
   "id": "f7398fc0-e9ff-4e6f-b340-d070834cb660",
   "metadata": {
    "tags": []
   },
   "outputs": [],
   "source": [
    "# Input image dimensions, etc.\n",
    "resized_height = 224\n",
    "resized_width = 224\n",
    "num_channel = 3 \n",
    "num_classes = 18\n",
    "batch_size = 32"
   ]
  },
  {
   "cell_type": "code",
   "execution_count": 6,
   "id": "e006a15d-68a3-41ab-93e6-dbbde3951aa2",
   "metadata": {
    "tags": []
   },
   "outputs": [
    {
     "name": "stdout",
     "output_type": "stream",
     "text": [
      "Found 108 files belonging to 2 classes.\n",
      "Using 87 files for training.\n"
     ]
    },
    {
     "name": "stderr",
     "output_type": "stream",
     "text": [
      "2024-04-20 17:55:24.593298: I tensorflow/core/common_runtime/gpu/gpu_device.cc:1929] Created device /job:localhost/replica:0/task:0/device:GPU:0 with 860 MB memory:  -> device: 0, name: NVIDIA A100-SXM4-80GB, pci bus id: 0000:b7:00.0, compute capability: 8.0\n"
     ]
    }
   ],
   "source": [
    "train_images = image_dataset_from_directory(\n",
    "    image_dir, labels='inferred', label_mode='categorical',\n",
    "     color_mode='rgb', image_size=(resized_height ,\n",
    "    resized_width ), batch_size=batch_size, shuffle=True, seed=42,\n",
    "    validation_split=0.2, subset='training',\n",
    "    interpolation='bilinear', follow_links=False,\n",
    "    crop_to_aspect_ratio=False)"
   ]
  },
  {
   "cell_type": "code",
   "execution_count": 7,
   "id": "a9ec4a23-1569-4c5d-83cb-39173c206cf0",
   "metadata": {
    "tags": []
   },
   "outputs": [
    {
     "name": "stdout",
     "output_type": "stream",
     "text": [
      "Found 108 files belonging to 2 classes.\n",
      "Using 21 files for validation.\n"
     ]
    }
   ],
   "source": [
    "valid_images = image_dataset_from_directory(\n",
    "    image_dir, labels='inferred', label_mode='categorical',\n",
    "     color_mode='rgb', image_size=(resized_height ,\n",
    "    resized_width ), batch_size=32, shuffle=True, seed=42,\n",
    "    validation_split=0.2, subset='validation',\n",
    "    interpolation='bilinear', follow_links=False,\n",
    "    crop_to_aspect_ratio=False)"
   ]
  },
  {
   "cell_type": "code",
   "execution_count": 8,
   "id": "6dbbfd18-f328-4eaa-b7da-2a6ff45aa8ce",
   "metadata": {
    "tags": []
   },
   "outputs": [
    {
     "name": "stdout",
     "output_type": "stream",
     "text": [
      "Images shape: (87, 224, 224, 3)\n",
      "Labels shape: (87, 2)\n"
     ]
    }
   ],
   "source": [
    "# Initialize empty lists to store images and labels\n",
    "images = []\n",
    "labels = []\n",
    "\n",
    "# Iterate over the dataset to extract images and labels\n",
    "for image_batch, label_batch in train_images:\n",
    "    images.append(image_batch.numpy())\n",
    "    labels.append(label_batch.numpy())\n",
    "\n",
    "# Concatenate the lists of images and labels\n",
    "image_array = np.concatenate(images, axis=0)\n",
    "label_array = np.concatenate(labels, axis=0)\n",
    "\n",
    "print(\"Images shape:\", image_array.shape)  # Output: (87, 224, 224, 3)\n",
    "print(\"Labels shape:\", label_array.shape)  # Output: (87, 18)"
   ]
  },
  {
   "cell_type": "code",
   "execution_count": 9,
   "id": "09ccd7d7-a241-495a-97ca-25fbd12735c9",
   "metadata": {
    "tags": []
   },
   "outputs": [],
   "source": [
    "def custom_preprocessing_function(image):\n",
    "    # Randomly select a channel to scale\n",
    "    channel_to_scale = np.random.randint(0, 3)  # 0 for Red, 1 for Green, 2 for Blue\n",
    "\n",
    "    # Generate a random scaling factor between 0.5 and 1.5\n",
    "    scaling_factor = np.random.uniform(0.5, 1.5)\n",
    "\n",
    "    # Scale the selected channel\n",
    "    image[:,:,channel_to_scale] *= scaling_factor\n",
    "\n",
    "    # Clip the values to ensure they remain in the valid range [0, 255]\n",
    "    image = np.clip(image, 0, 255)\n",
    "\n",
    "    return image\n"
   ]
  },
  {
   "cell_type": "code",
   "execution_count": 10,
   "id": "03bb0579-a9a7-41f3-b6e6-d4725fa3a75f",
   "metadata": {
    "tags": []
   },
   "outputs": [],
   "source": [
    "datagen = ImageDataGenerator(\n",
    "    rotation_range=40,\n",
    "    width_shift_range=0.2,\n",
    "    height_shift_range=0.2,\n",
    "    shear_range=0.2,\n",
    "    zoom_range=0.2,\n",
    "    horizontal_flip=True,\n",
    "    fill_mode='nearest',\n",
    ")"
   ]
  },
  {
   "cell_type": "code",
   "execution_count": 18,
   "id": "2837a96a-e1df-43c4-a253-fa23c10c319c",
   "metadata": {
    "tags": []
   },
   "outputs": [],
   "source": [
    "augmented_images = datagen.flow(image_array, label_array)"
   ]
  },
  {
   "cell_type": "code",
   "execution_count": 14,
   "id": "94257699-acbb-45ce-b71e-1e4d0a58c946",
   "metadata": {
    "tags": []
   },
   "outputs": [],
   "source": [
    "from tensorflow.keras.models import Sequential\n",
    "from tensorflow.keras.layers import (\n",
    "    Dense,\n",
    "    Conv2D,\n",
    "    MaxPool2D,\n",
    "    Flatten,\n",
    "    Dropout,\n",
    "    BatchNormalization,\n",
    ")\n",
    "\n",
    "model = Sequential([\n",
    "    Conv2D(8, (3, 3), activation='relu', input_shape=(224, 224, 3)),\n",
    "    MaxPool2D((2, 2)),\n",
    "    Conv2D(16, (3, 3), activation='relu'),\n",
    "    MaxPool2D((2, 2)),\n",
    "    Conv2D(16, (3, 3), activation='relu'),\n",
    "    Flatten(),\n",
    "    Dense(64, activation='relu'),\n",
    "    Dropout(0.5),\n",
    "    Dense(num_classes, activation='sigmoid')\n",
    "])\n",
    "\n",
    "\n",
    "# CNNs are more concise and have fewer parameteres than dense layers"
   ]
  },
  {
   "cell_type": "code",
   "execution_count": 21,
   "id": "ebad7329-b1ca-4696-9bd1-5aa1f433d15a",
   "metadata": {
    "tags": []
   },
   "outputs": [
    {
     "name": "stdout",
     "output_type": "stream",
     "text": [
      "Model: \"sequential_2\"\n",
      "_________________________________________________________________\n",
      " Layer (type)                Output Shape              Param #   \n",
      "=================================================================\n",
      " conv2d_6 (Conv2D)           (None, 222, 222, 8)       224       \n",
      "                                                                 \n",
      " max_pooling2d_4 (MaxPoolin  (None, 111, 111, 8)       0         \n",
      " g2D)                                                            \n",
      "                                                                 \n",
      " conv2d_7 (Conv2D)           (None, 109, 109, 16)      1168      \n",
      "                                                                 \n",
      " max_pooling2d_5 (MaxPoolin  (None, 54, 54, 16)        0         \n",
      " g2D)                                                            \n",
      "                                                                 \n",
      " conv2d_8 (Conv2D)           (None, 52, 52, 16)        2320      \n",
      "                                                                 \n",
      " flatten_2 (Flatten)         (None, 43264)             0         \n",
      "                                                                 \n",
      " dense_4 (Dense)             (None, 64)                2768960   \n",
      "                                                                 \n",
      " dropout_2 (Dropout)         (None, 64)                0         \n",
      "                                                                 \n",
      " dense_5 (Dense)             (None, 18)                1170      \n",
      "                                                                 \n",
      "=================================================================\n",
      "Total params: 2773842 (10.58 MB)\n",
      "Trainable params: 2773842 (10.58 MB)\n",
      "Non-trainable params: 0 (0.00 Byte)\n",
      "_________________________________________________________________\n"
     ]
    }
   ],
   "source": [
    "model.summary()"
   ]
  },
  {
   "cell_type": "code",
   "execution_count": 19,
   "id": "94a70c8e-6e34-48b7-8cbf-6c562bd9639c",
   "metadata": {
    "tags": []
   },
   "outputs": [],
   "source": [
    "# Fit the generator on the training data\n",
    "datagen.fit(image_array)\n",
    "\n",
    "# Compile the new model\n",
    "model.compile(loss='binary_crossentropy', optimizer='adam', metrics=['accuracy'])"
   ]
  },
  {
   "cell_type": "code",
   "execution_count": 20,
   "id": "8a0e9377-be8a-42bb-9fef-ac7fb1060470",
   "metadata": {
    "tags": []
   },
   "outputs": [
    {
     "name": "stdout",
     "output_type": "stream",
     "text": [
      "Epoch 1/20\n"
     ]
    },
    {
     "name": "stderr",
     "output_type": "stream",
     "text": [
      "2024-04-20 18:03:59.235121: I external/local_xla/xla/stream_executor/cuda/cuda_dnn.cc:454] Loaded cuDNN version 8800\n",
      "2024-04-20 18:03:59.420687: W external/local_tsl/tsl/framework/bfc_allocator.cc:296] Allocator (GPU_0_bfc) ran out of memory trying to allocate 82.50MiB with freed_by_count=0. The caller indicates that this is not a failure, but this may mean that there could be performance gains if more memory were available.\n",
      "2024-04-20 18:03:59.420828: W external/local_tsl/tsl/framework/bfc_allocator.cc:296] Allocator (GPU_0_bfc) ran out of memory trying to allocate 82.50MiB with freed_by_count=0. The caller indicates that this is not a failure, but this may mean that there could be performance gains if more memory were available.\n",
      "2024-04-20 18:03:59.422517: W external/local_tsl/tsl/framework/bfc_allocator.cc:296] Allocator (GPU_0_bfc) ran out of memory trying to allocate 82.50MiB with freed_by_count=0. The caller indicates that this is not a failure, but this may mean that there could be performance gains if more memory were available.\n",
      "2024-04-20 18:03:59.422556: W external/local_tsl/tsl/framework/bfc_allocator.cc:296] Allocator (GPU_0_bfc) ran out of memory trying to allocate 40.50MiB with freed_by_count=0. The caller indicates that this is not a failure, but this may mean that there could be performance gains if more memory were available.\n",
      "2024-04-20 18:03:59.425343: W external/local_tsl/tsl/framework/bfc_allocator.cc:296] Allocator (GPU_0_bfc) ran out of memory trying to allocate 88.63MiB with freed_by_count=0. The caller indicates that this is not a failure, but this may mean that there could be performance gains if more memory were available.\n",
      "2024-04-20 18:03:59.425382: W external/local_tsl/tsl/framework/bfc_allocator.cc:296] Allocator (GPU_0_bfc) ran out of memory trying to allocate 40.50MiB with freed_by_count=0. The caller indicates that this is not a failure, but this may mean that there could be performance gains if more memory were available.\n",
      "2024-04-20 18:03:59.425407: W external/local_tsl/tsl/framework/bfc_allocator.cc:296] Allocator (GPU_0_bfc) ran out of memory trying to allocate 88.63MiB with freed_by_count=0. The caller indicates that this is not a failure, but this may mean that there could be performance gains if more memory were available.\n",
      "2024-04-20 18:03:59.425435: W external/local_tsl/tsl/framework/bfc_allocator.cc:296] Allocator (GPU_0_bfc) ran out of memory trying to allocate 88.63MiB with freed_by_count=0. The caller indicates that this is not a failure, but this may mean that there could be performance gains if more memory were available.\n",
      "2024-04-20 18:03:59.425459: W external/local_tsl/tsl/framework/bfc_allocator.cc:296] Allocator (GPU_0_bfc) ran out of memory trying to allocate 40.50MiB with freed_by_count=0. The caller indicates that this is not a failure, but this may mean that there could be performance gains if more memory were available.\n",
      "2024-04-20 18:03:59.425484: W external/local_tsl/tsl/framework/bfc_allocator.cc:296] Allocator (GPU_0_bfc) ran out of memory trying to allocate 40.50MiB with freed_by_count=0. The caller indicates that this is not a failure, but this may mean that there could be performance gains if more memory were available.\n",
      "2024-04-20 18:03:59.461045: W tensorflow/core/kernels/conv_ops_gpu.cc:144] None of the algorithms provided by cuDNN frontend heuristics worked; trying fallback algorithms.  Conv: batch: 32\n",
      "in_depths: 8\n",
      "out_depths: 16\n",
      "in: 111\n",
      "in: 111\n",
      "data_format: 1\n",
      "filter: 3\n",
      "filter: 3\n",
      "filter: 8\n",
      "dilation: 1\n",
      "dilation: 1\n",
      "stride: 1\n",
      "stride: 1\n",
      "padding: 0\n",
      "padding: 0\n",
      "dtype: DT_FLOAT\n",
      "group_count: 1\n",
      "device_identifier: \"sm_8.0 with 84987740160B RAM, 108 cores, 1410000KHz clock, 1593000KHz mem clock, 41943040B L2$\"\n",
      "fusion {\n",
      "  activation_mode: kRelu\n",
      "  conv_scale: 1\n",
      "}\n",
      "version: 3\n",
      "\n",
      "2024-04-20 18:03:59.463421: W tensorflow/core/framework/op_kernel.cc:1839] OP_REQUIRES failed at conv_ops_fused_impl.h:625 : NOT_FOUND: No algorithm worked!  Error messages:\n",
      "  Profiling failure on CUDNN engine eng11{}: RESOURCE_EXHAUSTED: Out of memory while trying to allocate 16777216 bytes.\n",
      "  Profiling failure on CUDNN engine eng0{}: RESOURCE_EXHAUSTED: Out of memory while trying to allocate 16777216 bytes.\n"
     ]
    },
    {
     "ename": "NotFoundError",
     "evalue": "Graph execution error:\n\nDetected at node sequential_2/conv2d_7/Relu defined at (most recent call last):\n  File \"<frozen runpy>\", line 198, in _run_module_as_main\n\n  File \"<frozen runpy>\", line 88, in _run_code\n\n  File \"/apps/tensorflow/2.15/lib/python3.11/site-packages/ipykernel/__main__.py\", line 5, in <module>\n\n  File \"/apps/tensorflow/2.15/lib/python3.11/site-packages/traitlets/config/application.py\", line 1046, in launch_instance\n\n  File \"/apps/tensorflow/2.15/lib/python3.11/site-packages/ipykernel/kernelapp.py\", line 736, in start\n\n  File \"/apps/tensorflow/2.15/lib/python3.11/site-packages/tornado/platform/asyncio.py\", line 195, in start\n\n  File \"/apps/tensorflow/2.15/lib/python3.11/asyncio/base_events.py\", line 607, in run_forever\n\n  File \"/apps/tensorflow/2.15/lib/python3.11/asyncio/base_events.py\", line 1922, in _run_once\n\n  File \"/apps/tensorflow/2.15/lib/python3.11/asyncio/events.py\", line 80, in _run\n\n  File \"/apps/tensorflow/2.15/lib/python3.11/site-packages/ipykernel/kernelbase.py\", line 516, in dispatch_queue\n\n  File \"/apps/tensorflow/2.15/lib/python3.11/site-packages/ipykernel/kernelbase.py\", line 505, in process_one\n\n  File \"/apps/tensorflow/2.15/lib/python3.11/site-packages/ipykernel/kernelbase.py\", line 412, in dispatch_shell\n\n  File \"/apps/tensorflow/2.15/lib/python3.11/site-packages/ipykernel/kernelbase.py\", line 740, in execute_request\n\n  File \"/apps/tensorflow/2.15/lib/python3.11/site-packages/ipykernel/ipkernel.py\", line 422, in do_execute\n\n  File \"/apps/tensorflow/2.15/lib/python3.11/site-packages/ipykernel/zmqshell.py\", line 546, in run_cell\n\n  File \"/apps/tensorflow/2.15/lib/python3.11/site-packages/IPython/core/interactiveshell.py\", line 3024, in run_cell\n\n  File \"/apps/tensorflow/2.15/lib/python3.11/site-packages/IPython/core/interactiveshell.py\", line 3079, in _run_cell\n\n  File \"/apps/tensorflow/2.15/lib/python3.11/site-packages/IPython/core/async_helpers.py\", line 129, in _pseudo_sync_runner\n\n  File \"/apps/tensorflow/2.15/lib/python3.11/site-packages/IPython/core/interactiveshell.py\", line 3284, in run_cell_async\n\n  File \"/apps/tensorflow/2.15/lib/python3.11/site-packages/IPython/core/interactiveshell.py\", line 3466, in run_ast_nodes\n\n  File \"/apps/tensorflow/2.15/lib/python3.11/site-packages/IPython/core/interactiveshell.py\", line 3526, in run_code\n\n  File \"/scratch/local/29527525/ipykernel_3810932/3400676624.py\", line 1, in <module>\n\n  File \"/apps/tensorflow/2.15/lib/python3.11/site-packages/keras/src/utils/traceback_utils.py\", line 65, in error_handler\n\n  File \"/apps/tensorflow/2.15/lib/python3.11/site-packages/keras/src/engine/training.py\", line 1807, in fit\n\n  File \"/apps/tensorflow/2.15/lib/python3.11/site-packages/keras/src/engine/training.py\", line 1401, in train_function\n\n  File \"/apps/tensorflow/2.15/lib/python3.11/site-packages/keras/src/engine/training.py\", line 1384, in step_function\n\n  File \"/apps/tensorflow/2.15/lib/python3.11/site-packages/keras/src/engine/training.py\", line 1373, in run_step\n\n  File \"/apps/tensorflow/2.15/lib/python3.11/site-packages/keras/src/engine/training.py\", line 1150, in train_step\n\n  File \"/apps/tensorflow/2.15/lib/python3.11/site-packages/keras/src/utils/traceback_utils.py\", line 65, in error_handler\n\n  File \"/apps/tensorflow/2.15/lib/python3.11/site-packages/keras/src/engine/training.py\", line 590, in __call__\n\n  File \"/apps/tensorflow/2.15/lib/python3.11/site-packages/keras/src/utils/traceback_utils.py\", line 65, in error_handler\n\n  File \"/apps/tensorflow/2.15/lib/python3.11/site-packages/keras/src/engine/base_layer.py\", line 1149, in __call__\n\n  File \"/apps/tensorflow/2.15/lib/python3.11/site-packages/keras/src/utils/traceback_utils.py\", line 96, in error_handler\n\n  File \"/apps/tensorflow/2.15/lib/python3.11/site-packages/keras/src/engine/sequential.py\", line 398, in call\n\n  File \"/apps/tensorflow/2.15/lib/python3.11/site-packages/keras/src/engine/functional.py\", line 515, in call\n\n  File \"/apps/tensorflow/2.15/lib/python3.11/site-packages/keras/src/engine/functional.py\", line 672, in _run_internal_graph\n\n  File \"/apps/tensorflow/2.15/lib/python3.11/site-packages/keras/src/utils/traceback_utils.py\", line 65, in error_handler\n\n  File \"/apps/tensorflow/2.15/lib/python3.11/site-packages/keras/src/engine/base_layer.py\", line 1149, in __call__\n\n  File \"/apps/tensorflow/2.15/lib/python3.11/site-packages/keras/src/utils/traceback_utils.py\", line 96, in error_handler\n\n  File \"/apps/tensorflow/2.15/lib/python3.11/site-packages/keras/src/layers/convolutional/base_conv.py\", line 321, in call\n\n  File \"/apps/tensorflow/2.15/lib/python3.11/site-packages/keras/src/activations.py\", line 306, in relu\n\n  File \"/apps/tensorflow/2.15/lib/python3.11/site-packages/keras/src/backend.py\", line 5395, in relu\n\nNo algorithm worked!  Error messages:\n  Profiling failure on CUDNN engine eng11{}: RESOURCE_EXHAUSTED: Out of memory while trying to allocate 16777216 bytes.\n  Profiling failure on CUDNN engine eng0{}: RESOURCE_EXHAUSTED: Out of memory while trying to allocate 16777216 bytes.\n\t [[{{node sequential_2/conv2d_7/Relu}}]] [Op:__inference_train_function_1881]",
     "output_type": "error",
     "traceback": [
      "\u001b[0;31m---------------------------------------------------------------------------\u001b[0m",
      "\u001b[0;31mNotFoundError\u001b[0m                             Traceback (most recent call last)",
      "Cell \u001b[0;32mIn[20], line 1\u001b[0m\n\u001b[0;32m----> 1\u001b[0m history\u001b[38;5;241m=\u001b[39m \u001b[43mmodel\u001b[49m\u001b[38;5;241;43m.\u001b[39;49m\u001b[43mfit\u001b[49m\u001b[43m(\u001b[49m\u001b[43maugmented_images\u001b[49m\u001b[43m,\u001b[49m\n\u001b[1;32m      2\u001b[0m \u001b[43m          \u001b[49m\u001b[43mepochs\u001b[49m\u001b[38;5;241;43m=\u001b[39;49m\u001b[38;5;241;43m20\u001b[39;49m\u001b[43m,\u001b[49m\n\u001b[1;32m      3\u001b[0m \u001b[38;5;66;43;03m#          steps_per_epoch=4,\u001b[39;49;00m\n\u001b[1;32m      4\u001b[0m \u001b[43m          \u001b[49m\u001b[43mvalidation_data\u001b[49m\u001b[38;5;241;43m=\u001b[39;49m\u001b[43mvalid_images\u001b[49m\u001b[43m)\u001b[49m\n",
      "File \u001b[0;32m/apps/tensorflow/2.15/lib/python3.11/site-packages/keras/src/utils/traceback_utils.py:70\u001b[0m, in \u001b[0;36mfilter_traceback.<locals>.error_handler\u001b[0;34m(*args, **kwargs)\u001b[0m\n\u001b[1;32m     67\u001b[0m     filtered_tb \u001b[38;5;241m=\u001b[39m _process_traceback_frames(e\u001b[38;5;241m.\u001b[39m__traceback__)\n\u001b[1;32m     68\u001b[0m     \u001b[38;5;66;03m# To get the full stack trace, call:\u001b[39;00m\n\u001b[1;32m     69\u001b[0m     \u001b[38;5;66;03m# `tf.debugging.disable_traceback_filtering()`\u001b[39;00m\n\u001b[0;32m---> 70\u001b[0m     \u001b[38;5;28;01mraise\u001b[39;00m e\u001b[38;5;241m.\u001b[39mwith_traceback(filtered_tb) \u001b[38;5;28;01mfrom\u001b[39;00m \u001b[38;5;28;01mNone\u001b[39;00m\n\u001b[1;32m     71\u001b[0m \u001b[38;5;28;01mfinally\u001b[39;00m:\n\u001b[1;32m     72\u001b[0m     \u001b[38;5;28;01mdel\u001b[39;00m filtered_tb\n",
      "File \u001b[0;32m/apps/tensorflow/2.15/lib/python3.11/site-packages/tensorflow/python/eager/execute.py:53\u001b[0m, in \u001b[0;36mquick_execute\u001b[0;34m(op_name, num_outputs, inputs, attrs, ctx, name)\u001b[0m\n\u001b[1;32m     51\u001b[0m \u001b[38;5;28;01mtry\u001b[39;00m:\n\u001b[1;32m     52\u001b[0m   ctx\u001b[38;5;241m.\u001b[39mensure_initialized()\n\u001b[0;32m---> 53\u001b[0m   tensors \u001b[38;5;241m=\u001b[39m pywrap_tfe\u001b[38;5;241m.\u001b[39mTFE_Py_Execute(ctx\u001b[38;5;241m.\u001b[39m_handle, device_name, op_name,\n\u001b[1;32m     54\u001b[0m                                       inputs, attrs, num_outputs)\n\u001b[1;32m     55\u001b[0m \u001b[38;5;28;01mexcept\u001b[39;00m core\u001b[38;5;241m.\u001b[39m_NotOkStatusException \u001b[38;5;28;01mas\u001b[39;00m e:\n\u001b[1;32m     56\u001b[0m   \u001b[38;5;28;01mif\u001b[39;00m name \u001b[38;5;129;01mis\u001b[39;00m \u001b[38;5;129;01mnot\u001b[39;00m \u001b[38;5;28;01mNone\u001b[39;00m:\n",
      "\u001b[0;31mNotFoundError\u001b[0m: Graph execution error:\n\nDetected at node sequential_2/conv2d_7/Relu defined at (most recent call last):\n  File \"<frozen runpy>\", line 198, in _run_module_as_main\n\n  File \"<frozen runpy>\", line 88, in _run_code\n\n  File \"/apps/tensorflow/2.15/lib/python3.11/site-packages/ipykernel/__main__.py\", line 5, in <module>\n\n  File \"/apps/tensorflow/2.15/lib/python3.11/site-packages/traitlets/config/application.py\", line 1046, in launch_instance\n\n  File \"/apps/tensorflow/2.15/lib/python3.11/site-packages/ipykernel/kernelapp.py\", line 736, in start\n\n  File \"/apps/tensorflow/2.15/lib/python3.11/site-packages/tornado/platform/asyncio.py\", line 195, in start\n\n  File \"/apps/tensorflow/2.15/lib/python3.11/asyncio/base_events.py\", line 607, in run_forever\n\n  File \"/apps/tensorflow/2.15/lib/python3.11/asyncio/base_events.py\", line 1922, in _run_once\n\n  File \"/apps/tensorflow/2.15/lib/python3.11/asyncio/events.py\", line 80, in _run\n\n  File \"/apps/tensorflow/2.15/lib/python3.11/site-packages/ipykernel/kernelbase.py\", line 516, in dispatch_queue\n\n  File \"/apps/tensorflow/2.15/lib/python3.11/site-packages/ipykernel/kernelbase.py\", line 505, in process_one\n\n  File \"/apps/tensorflow/2.15/lib/python3.11/site-packages/ipykernel/kernelbase.py\", line 412, in dispatch_shell\n\n  File \"/apps/tensorflow/2.15/lib/python3.11/site-packages/ipykernel/kernelbase.py\", line 740, in execute_request\n\n  File \"/apps/tensorflow/2.15/lib/python3.11/site-packages/ipykernel/ipkernel.py\", line 422, in do_execute\n\n  File \"/apps/tensorflow/2.15/lib/python3.11/site-packages/ipykernel/zmqshell.py\", line 546, in run_cell\n\n  File \"/apps/tensorflow/2.15/lib/python3.11/site-packages/IPython/core/interactiveshell.py\", line 3024, in run_cell\n\n  File \"/apps/tensorflow/2.15/lib/python3.11/site-packages/IPython/core/interactiveshell.py\", line 3079, in _run_cell\n\n  File \"/apps/tensorflow/2.15/lib/python3.11/site-packages/IPython/core/async_helpers.py\", line 129, in _pseudo_sync_runner\n\n  File \"/apps/tensorflow/2.15/lib/python3.11/site-packages/IPython/core/interactiveshell.py\", line 3284, in run_cell_async\n\n  File \"/apps/tensorflow/2.15/lib/python3.11/site-packages/IPython/core/interactiveshell.py\", line 3466, in run_ast_nodes\n\n  File \"/apps/tensorflow/2.15/lib/python3.11/site-packages/IPython/core/interactiveshell.py\", line 3526, in run_code\n\n  File \"/scratch/local/29527525/ipykernel_3810932/3400676624.py\", line 1, in <module>\n\n  File \"/apps/tensorflow/2.15/lib/python3.11/site-packages/keras/src/utils/traceback_utils.py\", line 65, in error_handler\n\n  File \"/apps/tensorflow/2.15/lib/python3.11/site-packages/keras/src/engine/training.py\", line 1807, in fit\n\n  File \"/apps/tensorflow/2.15/lib/python3.11/site-packages/keras/src/engine/training.py\", line 1401, in train_function\n\n  File \"/apps/tensorflow/2.15/lib/python3.11/site-packages/keras/src/engine/training.py\", line 1384, in step_function\n\n  File \"/apps/tensorflow/2.15/lib/python3.11/site-packages/keras/src/engine/training.py\", line 1373, in run_step\n\n  File \"/apps/tensorflow/2.15/lib/python3.11/site-packages/keras/src/engine/training.py\", line 1150, in train_step\n\n  File \"/apps/tensorflow/2.15/lib/python3.11/site-packages/keras/src/utils/traceback_utils.py\", line 65, in error_handler\n\n  File \"/apps/tensorflow/2.15/lib/python3.11/site-packages/keras/src/engine/training.py\", line 590, in __call__\n\n  File \"/apps/tensorflow/2.15/lib/python3.11/site-packages/keras/src/utils/traceback_utils.py\", line 65, in error_handler\n\n  File \"/apps/tensorflow/2.15/lib/python3.11/site-packages/keras/src/engine/base_layer.py\", line 1149, in __call__\n\n  File \"/apps/tensorflow/2.15/lib/python3.11/site-packages/keras/src/utils/traceback_utils.py\", line 96, in error_handler\n\n  File \"/apps/tensorflow/2.15/lib/python3.11/site-packages/keras/src/engine/sequential.py\", line 398, in call\n\n  File \"/apps/tensorflow/2.15/lib/python3.11/site-packages/keras/src/engine/functional.py\", line 515, in call\n\n  File \"/apps/tensorflow/2.15/lib/python3.11/site-packages/keras/src/engine/functional.py\", line 672, in _run_internal_graph\n\n  File \"/apps/tensorflow/2.15/lib/python3.11/site-packages/keras/src/utils/traceback_utils.py\", line 65, in error_handler\n\n  File \"/apps/tensorflow/2.15/lib/python3.11/site-packages/keras/src/engine/base_layer.py\", line 1149, in __call__\n\n  File \"/apps/tensorflow/2.15/lib/python3.11/site-packages/keras/src/utils/traceback_utils.py\", line 96, in error_handler\n\n  File \"/apps/tensorflow/2.15/lib/python3.11/site-packages/keras/src/layers/convolutional/base_conv.py\", line 321, in call\n\n  File \"/apps/tensorflow/2.15/lib/python3.11/site-packages/keras/src/activations.py\", line 306, in relu\n\n  File \"/apps/tensorflow/2.15/lib/python3.11/site-packages/keras/src/backend.py\", line 5395, in relu\n\nNo algorithm worked!  Error messages:\n  Profiling failure on CUDNN engine eng11{}: RESOURCE_EXHAUSTED: Out of memory while trying to allocate 16777216 bytes.\n  Profiling failure on CUDNN engine eng0{}: RESOURCE_EXHAUSTED: Out of memory while trying to allocate 16777216 bytes.\n\t [[{{node sequential_2/conv2d_7/Relu}}]] [Op:__inference_train_function_1881]"
     ]
    }
   ],
   "source": [
    "history= model.fit(augmented_images,\n",
    "          epochs=20,\n",
    "#          steps_per_epoch=4,\n",
    "          validation_data=valid_images)"
   ]
  },
  {
   "cell_type": "code",
   "execution_count": null,
   "id": "7b6f4e8a-5471-4818-928a-583657037ca3",
   "metadata": {},
   "outputs": [],
   "source": []
  }
 ],
 "metadata": {
  "kernelspec": {
   "display_name": "Tensorflow-2.15",
   "language": "python",
   "name": "tensorflow-2.15"
  },
  "language_info": {
   "codemirror_mode": {
    "name": "ipython",
    "version": 3
   },
   "file_extension": ".py",
   "mimetype": "text/x-python",
   "name": "python",
   "nbconvert_exporter": "python",
   "pygments_lexer": "ipython3",
   "version": "3.11.5"
  }
 },
 "nbformat": 4,
 "nbformat_minor": 5
}
